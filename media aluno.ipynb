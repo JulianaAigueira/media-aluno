{
 "cells": [
  {
   "cell_type": "code",
   "execution_count": null,
   "id": "a64f60d2",
   "metadata": {},
   "outputs": [],
   "source": [
    "Média de aluno e quantos tiraram acima de 7."
   ]
  },
  {
   "cell_type": "code",
   "execution_count": 1,
   "id": "cf51f6cd",
   "metadata": {},
   "outputs": [
    {
     "name": "stdout",
     "output_type": "stream",
     "text": [
      "O aluno José ficou de média 8.75\n",
      "O aluno Joana ficou de média 6.5\n",
      "O aluno Maria ficou de média 10.0\n",
      "O aluno Carla ficou de média 6.75\n",
      "O aluno Mauricio ficou de média 6.25\n",
      "O aluno Andre ficou de média 7.25\n",
      "O aluno Tiago ficou de média 7.5\n",
      "O aluno Enzo ficou de média 6.5\n",
      "O aluno Amanda ficou de média 7.5\n",
      "O aluno Alessandra ficou de média 4.25\n",
      "5 alunos tiveram a média acima de 7.\n"
     ]
    }
   ],
   "source": [
    "alunos = [\"José\", \"Joana\", \"Maria\", \"Carla\", \"Mauricio\", \"Andre\", \"Tiago\", \"Enzo\", \"Amanda\", \"Alessandra\"]\n",
    "notas = [\n",
    "    [10, 9, 8, 8],\n",
    "    [9, 7, 6, 4],\n",
    "    [10, 10, 10, 10],\n",
    "    [5, 3, 10, 9],\n",
    "    [7, 6, 6, 6],\n",
    "    [7, 7, 8, 7],\n",
    "    [7, 7, 7, 9],\n",
    "    [8, 5, 6, 7],\n",
    "    [10, 9, 7, 4],\n",
    "    [10, 1, 3, 3],\n",
    "]\n",
    "\n",
    "media_aluno = []\n",
    "cont = 0\n",
    "\n",
    "for i in range(len(alunos)):\n",
    "    media = sum(notas[i]) / len(notas[i])\n",
    "    media_aluno.append(media)\n",
    "    print(f'O aluno {alunos[i]} ficou de média {media_aluno[i]}')\n",
    "\n",
    "for medias in media_aluno:\n",
    "    if medias >= 7:\n",
    "        cont += 1\n",
    "\n",
    "print(f'{cont} alunos tiveram a média acima de 7.')"
   ]
  },
  {
   "cell_type": "code",
   "execution_count": null,
   "id": "b2c4e2b3",
   "metadata": {},
   "outputs": [],
   "source": []
  }
 ],
 "metadata": {
  "kernelspec": {
   "display_name": "Python 3 (ipykernel)",
   "language": "python",
   "name": "python3"
  },
  "language_info": {
   "codemirror_mode": {
    "name": "ipython",
    "version": 3
   },
   "file_extension": ".py",
   "mimetype": "text/x-python",
   "name": "python",
   "nbconvert_exporter": "python",
   "pygments_lexer": "ipython3",
   "version": "3.9.13"
  }
 },
 "nbformat": 4,
 "nbformat_minor": 5
}
